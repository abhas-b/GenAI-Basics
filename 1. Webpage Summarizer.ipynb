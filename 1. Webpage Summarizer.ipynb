{
 "cells": [
  {
   "cell_type": "markdown",
   "id": "3f52614d",
   "metadata": {},
   "source": [
    "Objective:\n",
    "\n",
    "We want to build an LLM based webpage summarizer.\n",
    "We'll use BS4 to scrape the webpage and OpenAI call to summarize it."
   ]
  },
  {
   "cell_type": "code",
   "execution_count": 28,
   "id": "5e0d6d24",
   "metadata": {},
   "outputs": [],
   "source": [
    "from bs4 import BeautifulSoup\n",
    "from openai import OpenAI\n",
    "import requests\n",
    "from dotenv import load_dotenv"
   ]
  },
  {
   "cell_type": "code",
   "execution_count": 2,
   "id": "986d4d83",
   "metadata": {},
   "outputs": [],
   "source": [
    "url = \"https://edwarddonner.com/\""
   ]
  },
  {
   "cell_type": "code",
   "execution_count": 22,
   "id": "2a2e8d5f",
   "metadata": {},
   "outputs": [],
   "source": [
    "class WebScraper:\n",
    "    url: str\n",
    "    text: str\n",
    "    \n",
    "    def __init__(self, url):\n",
    "        self.url = url\n",
    "        self.text = \"\"\n",
    "\n",
    "\n",
    "    def basic_scraper(self):\n",
    "        response = requests.get(self.url)\n",
    "        soup = BeautifulSoup(response.content, 'lxml')\n",
    "        body = soup.body\n",
    "        self.text = body.get_text(separator=\"\\n\", strip=True)"
   ]
  },
  {
   "cell_type": "code",
   "execution_count": 27,
   "id": "574b12e6",
   "metadata": {},
   "outputs": [
    {
     "data": {
      "text/plain": [
       "'Home\\nConnect Four\\nOutsmart\\nAn arena that pits LLMs against each other in a battle of diplomacy and deviousness\\nAbout\\nPosts\\nWell, hi there.\\nI’m Ed. I like writing code and experimenting with LLMs, and hopefully you’re here because you do too. I also enjoy DJing (but I’m badly out of practice), amateur electronic music production (\\nvery\\namateur) and losing myself in\\nHacker News\\n, nodding my head sagely to things I only half understand.\\nI’m the co-founder and CTO of\\nNebula.io\\n. We’re applying AI to a field where it can make a massive, positive impact: helping people discover their potential and pursue their reason for being. Recruiters use our product today to source, understand, engage and manage talent. I’m previously the founder and CEO of AI startup untapt,\\nacquired in 2021\\n.\\nWe work with groundbreaking, proprietary LLMs verticalized for talent, we’ve\\npatented\\nour matching model, and our award-winning platform has happy customers and tons of press coverage.\\nConnect\\nwith me for more!\\nMay 28, 2025\\nConnecting my courses – become an LLM expert and leader\\nMay 18, 2025\\n2025 AI Executive Briefing\\nApril 21, 2025\\nThe Complete Agentic AI Engineering Course\\nJanuary 23, 2025\\nLLM Workshop – Hands-on with Agents – resources\\nNavigation\\nHome\\nConnect Four\\nOutsmart\\nAn arena that pits LLMs against each other in a battle of diplomacy and deviousness\\nAbout\\nPosts\\nGet in touch\\ned [at] edwarddonner [dot] com\\nwww.edwarddonner.com\\nFollow me\\nLinkedIn\\nTwitter\\nFacebook\\nSubscribe to newsletter\\nType your email…\\nSubscribe'"
      ]
     },
     "execution_count": 27,
     "metadata": {},
     "output_type": "execute_result"
    }
   ],
   "source": [
    "web_text = WebScraper(url=url)\n",
    "web_text.basic_scraper()\n",
    "web_text.text"
   ]
  },
  {
   "cell_type": "code",
   "execution_count": 37,
   "id": "5873beb1",
   "metadata": {},
   "outputs": [],
   "source": [
    "system_prompt = \"\"\"You are a helpful assistant who is able to read text from a website and summarize it. \n",
    "    Provide only relevant information and ignore page structure related content such as navigation, script etc. \n",
    "    Respond in Markdown.\"\"\"\n",
    "\n",
    "\n",
    "\n",
    "user_prompt = f\"You are looking at a website with text {web_text.text}\"\n",
    "user_prompt += \"Provide a short summary of the webpage in markdown. Include all details available in a summarized form to provide maximum information in a crisp manner\"\n",
    "user_prompt += 'if any links or urls are mentioned, please output them in format: {\"Link\": url}'"
   ]
  },
  {
   "cell_type": "code",
   "execution_count": null,
   "id": "4ad61d71",
   "metadata": {},
   "outputs": [
    {
     "data": {
      "text/plain": [
       "'You are looking at a website with text Home\\nConnect Four\\nOutsmart\\nAn arena that pits LLMs against each other in a battle of diplomacy and deviousness\\nAbout\\nPosts\\nWell, hi there.\\nI’m Ed. I like writing code and experimenting with LLMs, and hopefully you’re here because you do too. I also enjoy DJing (but I’m badly out of practice), amateur electronic music production (\\nvery\\namateur) and losing myself in\\nHacker News\\n, nodding my head sagely to things I only half understand.\\nI’m the co-founder and CTO of\\nNebula.io\\n. We’re applying AI to a field where it can make a massive, positive impact: helping people discover their potential and pursue their reason for being. Recruiters use our product today to source, understand, engage and manage talent. I’m previously the founder and CEO of AI startup untapt,\\nacquired in 2021\\n.\\nWe work with groundbreaking, proprietary LLMs verticalized for talent, we’ve\\npatented\\nour matching model, and our award-winning platform has happy customers and tons of press coverage.\\nConnect\\nwith me for more!\\nMay 28, 2025\\nConnecting my courses – become an LLM expert and leader\\nMay 18, 2025\\n2025 AI Executive Briefing\\nApril 21, 2025\\nThe Complete Agentic AI Engineering Course\\nJanuary 23, 2025\\nLLM Workshop – Hands-on with Agents – resources\\nNavigation\\nHome\\nConnect Four\\nOutsmart\\nAn arena that pits LLMs against each other in a battle of diplomacy and deviousness\\nAbout\\nPosts\\nGet in touch\\ned [at] edwarddonner [dot] com\\nwww.edwarddonner.com\\nFollow me\\nLinkedIn\\nTwitter\\nFacebook\\nSubscribe to newsletter\\nType your email…\\nSubscribeProvide a short summary of the webpage in markdown. Include all details available in a summarized form to provide maximum information in a crisp mannerif any links or urls are mentioned, please output them in format: {\"Link\": url}'"
      ]
     },
     "execution_count": 38,
     "metadata": {},
     "output_type": "execute_result"
    }
   ],
   "source": [
    "load_dotenv(override=True)\n",
    "model = OpenAI(model=\"gpt-4o-mini\")\n",
    "\n"
   ]
  }
 ],
 "metadata": {
  "kernelspec": {
   "display_name": "llms",
   "language": "python",
   "name": "python3"
  },
  "language_info": {
   "codemirror_mode": {
    "name": "ipython",
    "version": 3
   },
   "file_extension": ".py",
   "mimetype": "text/x-python",
   "name": "python",
   "nbconvert_exporter": "python",
   "pygments_lexer": "ipython3",
   "version": "3.11.11"
  }
 },
 "nbformat": 4,
 "nbformat_minor": 5
}
